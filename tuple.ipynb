{
 "cells": [
  {
   "cell_type": "code",
   "execution_count": 1,
   "id": "7bc90865",
   "metadata": {},
   "outputs": [],
   "source": [
    "import numpy as np"
   ]
  },
  {
   "cell_type": "code",
   "execution_count": 2,
   "id": "697fca84",
   "metadata": {},
   "outputs": [
    {
     "data": {
      "text/plain": [
       "array([1, 2, 3, 4])"
      ]
     },
     "execution_count": 2,
     "metadata": {},
     "output_type": "execute_result"
    }
   ],
   "source": [
    "t=(1,2,3,4)\n",
    "np.array(t)"
   ]
  },
  {
   "cell_type": "markdown",
   "id": "5e356d60",
   "metadata": {},
   "source": [
    "nested tuple"
   ]
  },
  {
   "cell_type": "code",
   "execution_count": 3,
   "id": "9c2f69b7",
   "metadata": {},
   "outputs": [
    {
     "data": {
      "text/plain": [
       "array([[1, 2, 3],\n",
       "       [1, 3, 5],\n",
       "       [2, 4, 6],\n",
       "       [0, 1, 2]])"
      ]
     },
     "execution_count": 3,
     "metadata": {},
     "output_type": "execute_result"
    }
   ],
   "source": [
    "t1=((1,2,3),(1,3,5),(2,4,6),(0,1,2))\n",
    "np.array(t1)"
   ]
  },
  {
   "cell_type": "markdown",
   "id": "b9d70d27",
   "metadata": {},
   "source": [
    "Dictionaries"
   ]
  },
  {
   "cell_type": "code",
   "execution_count": 4,
   "id": "92cc156e",
   "metadata": {},
   "outputs": [
    {
     "data": {
      "text/plain": [
       "dict_items([('Name', 'Raghav'), ('Rollno', 1), ('Scores', 3), ('Course', 'Corporate Python')])"
      ]
     },
     "execution_count": 4,
     "metadata": {},
     "output_type": "execute_result"
    }
   ],
   "source": [
    "dic={\"Name\":\"Raghav\",\"Rollno\":1,\"Scores\":3,\"Course\":\"Corporate Python\"}\n",
    "dic.items()"
   ]
  },
  {
   "cell_type": "code",
   "execution_count": 5,
   "id": "b11083de",
   "metadata": {},
   "outputs": [
    {
     "data": {
      "text/plain": [
       "[('Name', 'Raghav'),\n",
       " ('Rollno', 1),\n",
       " ('Scores', 3),\n",
       " ('Course', 'Corporate Python')]"
      ]
     },
     "execution_count": 5,
     "metadata": {},
     "output_type": "execute_result"
    }
   ],
   "source": [
    "data=dic.items()\n",
    "list(data)"
   ]
  },
  {
   "cell_type": "code",
   "execution_count": 6,
   "id": "6eb6c33c",
   "metadata": {},
   "outputs": [
    {
     "data": {
      "text/plain": [
       "(('Name', 'Raghav'),\n",
       " ('Rollno', 1),\n",
       " ('Scores', 3),\n",
       " ('Course', 'Corporate Python'))"
      ]
     },
     "execution_count": 6,
     "metadata": {},
     "output_type": "execute_result"
    }
   ],
   "source": [
    "tuple(data)"
   ]
  },
  {
   "cell_type": "code",
   "execution_count": 7,
   "id": "2f73170d",
   "metadata": {},
   "outputs": [
    {
     "data": {
      "text/plain": [
       "array([['Name', 'Raghav'],\n",
       "       ['Rollno', '1'],\n",
       "       ['Scores', '3'],\n",
       "       ['Course', 'Corporate Python']], dtype='<U16')"
      ]
     },
     "execution_count": 7,
     "metadata": {},
     "output_type": "execute_result"
    }
   ],
   "source": [
    "t=tuple(data)\n",
    "np.array(t)"
   ]
  },
  {
   "cell_type": "code",
   "execution_count": null,
   "id": "e50e0c4e",
   "metadata": {},
   "outputs": [],
   "source": []
  }
 ],
 "metadata": {
  "kernelspec": {
   "display_name": "Python 3 (ipykernel)",
   "language": "python",
   "name": "python3"
  },
  "language_info": {
   "codemirror_mode": {
    "name": "ipython",
    "version": 3
   },
   "file_extension": ".py",
   "mimetype": "text/x-python",
   "name": "python",
   "nbconvert_exporter": "python",
   "pygments_lexer": "ipython3",
   "version": "3.9.13"
  }
 },
 "nbformat": 4,
 "nbformat_minor": 5
}
