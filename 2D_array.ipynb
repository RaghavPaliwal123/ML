{
 "cells": [
  {
   "cell_type": "code",
   "execution_count": 3,
   "id": "610b88ba",
   "metadata": {},
   "outputs": [],
   "source": [
    "import numpy as np"
   ]
  },
  {
   "cell_type": "code",
   "execution_count": 19,
   "id": "4535d79e",
   "metadata": {},
   "outputs": [
    {
     "data": {
      "text/plain": [
       "array([[1, 2, 3],\n",
       "       [1, 3, 4],\n",
       "       [2, 4, 6]])"
      ]
     },
     "execution_count": 19,
     "metadata": {},
     "output_type": "execute_result"
    }
   ],
   "source": [
    "l=[[1,2,3],[1,3,4],[2,4,6]]\n",
    "a3=np.array(l)\n",
    "a3"
   ]
  },
  {
   "cell_type": "markdown",
   "id": "bca078b9",
   "metadata": {},
   "source": [
    "# numpy Attributes"
   ]
  },
  {
   "cell_type": "code",
   "execution_count": 17,
   "id": "fac668a6",
   "metadata": {},
   "outputs": [
    {
     "name": "stdout",
     "output_type": "stream",
     "text": [
      "Dimension: 2\n",
      "ArraySize: 9\n",
      "Shape: (3, 3)\n",
      "Datatype: int32\n",
      "ItemSize: 4\n"
     ]
    }
   ],
   "source": [
    "print(\"Dimension:\",a3.ndim)\n",
    "print(\"ArraySize:\",a3.size)\n",
    "print(\"Shape:\",a3.shape)\n",
    "print(\"Datatype:\",a3.dtype)\n",
    "print(\"ItemSize:\",a3.itemsize)"
   ]
  },
  {
   "cell_type": "code",
   "execution_count": 20,
   "id": "2d7e66fd",
   "metadata": {},
   "outputs": [
    {
     "ename": "AttributeError",
     "evalue": "'numpy.ndarray' object has no attribute 'l'",
     "output_type": "error",
     "traceback": [
      "\u001b[1;31m---------------------------------------------------------------------------\u001b[0m",
      "\u001b[1;31mAttributeError\u001b[0m                            Traceback (most recent call last)",
      "\u001b[1;32m~\\AppData\\Local\\Temp\\ipykernel_9272\\3997964305.py\u001b[0m in \u001b[0;36m<module>\u001b[1;34m\u001b[0m\n\u001b[1;32m----> 1\u001b[1;33m \u001b[0mprint\u001b[0m\u001b[1;33m(\u001b[0m\u001b[1;34m\"DImension\"\u001b[0m\u001b[1;33m,\u001b[0m\u001b[0ma3\u001b[0m\u001b[1;33m.\u001b[0m\u001b[0ml\u001b[0m\u001b[1;33m)\u001b[0m\u001b[1;33m\u001b[0m\u001b[1;33m\u001b[0m\u001b[0m\n\u001b[0m",
      "\u001b[1;31mAttributeError\u001b[0m: 'numpy.ndarray' object has no attribute 'l'"
     ]
    }
   ],
   "source": [
    "print(\"DImension\",a3.l)"
   ]
  },
  {
   "cell_type": "code",
   "execution_count": null,
   "id": "b6e168d1",
   "metadata": {},
   "outputs": [],
   "source": []
  }
 ],
 "metadata": {
  "kernelspec": {
   "display_name": "Python 3 (ipykernel)",
   "language": "python",
   "name": "python3"
  },
  "language_info": {
   "codemirror_mode": {
    "name": "ipython",
    "version": 3
   },
   "file_extension": ".py",
   "mimetype": "text/x-python",
   "name": "python",
   "nbconvert_exporter": "python",
   "pygments_lexer": "ipython3",
   "version": "3.9.13"
  }
 },
 "nbformat": 4,
 "nbformat_minor": 5
}
